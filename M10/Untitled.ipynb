{
 "cells": [
  {
   "cell_type": "code",
   "execution_count": 1,
   "id": "b97a81b5",
   "metadata": {},
   "outputs": [
    {
     "name": "stderr",
     "output_type": "stream",
     "text": [
      "[nltk_data] Downloading package stopwords to\n",
      "[nltk_data]     C:\\Users\\admin\\AppData\\Roaming\\nltk_data...\n",
      "[nltk_data]   Package stopwords is already up-to-date!\n",
      "[nltk_data] Downloading package punkt to\n",
      "[nltk_data]     C:\\Users\\admin\\AppData\\Roaming\\nltk_data...\n",
      "[nltk_data]   Package punkt is already up-to-date!\n"
     ]
    },
    {
     "data": {
      "text/plain": [
       "True"
      ]
     },
     "execution_count": 1,
     "metadata": {},
     "output_type": "execute_result"
    }
   ],
   "source": [
    "#Importing necessary libraries\n",
    "import requests\n",
    "from bs4 import BeautifulSoup\n",
    "import re\n",
    "import pandas as pd\n",
    "import nltk\n",
    "from nltk.corpus import stopwords\n",
    "from nltk.tokenize import word_tokenize\n",
    "import string\n",
    "from sklearn.feature_extraction.text import CountVectorizer\n",
    "from sklearn.model_selection import train_test_split\n",
    "from sklearn.naive_bayes import MultinomialNB\n",
    "from sklearn.metrics import confusion_matrix, accuracy_score, classification_report\n",
    "# Import and download necessary libraries for text pre-processing\n",
    "nltk.download('stopwords')\n",
    "nltk.download('punkt')\n"
   ]
  },
  {
   "cell_type": "code",
   "execution_count": 2,
   "id": "5a3b8de9",
   "metadata": {},
   "outputs": [],
   "source": [
    "def extract_file_names(url):\n",
    "    # Fetch the HTML content from the URL\n",
    "    response = requests.get(url)\n",
    "    \n",
    "    # Parse the HTML content using BeautifulSoup\n",
    "    soup = BeautifulSoup(response.text, 'html.parser')\n",
    "    \n",
    "    # Find the script tag containing file names\n",
    "    script_tags = soup.find_all('script', attrs={'data-target': \"react-app.embeddedData\"})\n",
    "    \n",
    "    # Extract text content from the script tag\n",
    "    script_content = script_tags[0].text.strip() if script_tags else \"\"\n",
    "    \n",
    "    # Define the pattern for file names\n",
    "    pattern = r\"cv\\d+_\\d+\\.txt\"\n",
    "    \n",
    "    # Find all matches of file names using regex\n",
    "    file_names_matches = re.findall(pattern, script_content)\n",
    "    \n",
    "    # Remove duplicates and return the list of file names\n",
    "    file_names = list(set(file_names_matches))\n",
    "    return file_names"
   ]
  },
  {
   "cell_type": "code",
   "execution_count": 3,
   "id": "7eb67ea5",
   "metadata": {},
   "outputs": [],
   "source": [
    "#URLs for negative and positive review repositories\n",
    "neg_rev_url = 'https://github.com/vidhika-git/DAV-6150/tree/main/M10/review_polarity/txt_sentoken/neg'\n",
    "pos_rev_url = 'https://github.com/vidhika-git/DAV-6150/tree/main/M10/review_polarity/txt_sentoken/pos'"
   ]
  },
  {
   "cell_type": "code",
   "execution_count": 4,
   "id": "cfaa96db",
   "metadata": {},
   "outputs": [],
   "source": [
    "# Extracting file names for negative and positive reviews\n",
    "neg_review = extract_file_names(neg_rev_url)\n",
    "pos_review= extract_file_names(pos_rev_url)"
   ]
  },
  {
   "cell_type": "code",
   "execution_count": 5,
   "id": "bd1a1f7f",
   "metadata": {},
   "outputs": [],
   "source": [
    "# Define stop words\n",
    "stop_words = set(stopwords.words('english'))"
   ]
  },
  {
   "cell_type": "code",
   "execution_count": 6,
   "id": "dc02212a",
   "metadata": {},
   "outputs": [],
   "source": [
    "\n",
    "def process_sentence(sentence):\n",
    "    # Tokenize the sentence\n",
    "    words = re.findall(r'\\w+', sentence.lower())\n",
    "    # Remove stopwords and non-alphanumeric characters\n",
    "    filtered_words = [word for word in words if word not in stop_words and word.isalnum()]\n",
    "    # Join the filtered words into a single string\n",
    "    processed_sentence = ' '.join(filtered_words)\n",
    "    return processed_sentence"
   ]
  },
  {
   "cell_type": "code",
   "execution_count": 7,
   "id": "8e5f1b0d",
   "metadata": {},
   "outputs": [],
   "source": [
    "# List to store negative and positive reviews\n",
    "neg_reviews = []\n",
    "pos_reviews = []"
   ]
  },
  {
   "cell_type": "code",
   "execution_count": 8,
   "id": "6d3de763",
   "metadata": {},
   "outputs": [],
   "source": [
    "# Processing negative reviews\n",
    "for fn1 in neg_review:\n",
    "    neg_req = requests.get(\"https://github.com/vidhika-git/DAV-6150/tree/main/M10/review_polarity/txt_sentoken/neg/\" + fn1)\n",
    "    neg_reviews.append(process_sentence(neg_req.text))\n",
    "\n",
    "# Processing positive reviews\n",
    "for fn2 in pos_review:\n",
    "    pos_req = requests.get(\"https://github.com/vidhika-git/DAV-6150/tree/main/M10/review_polarity/txt_sentoken/pos/\" + fn2)\n",
    "    pos_reviews.append(process_sentence(pos_req.text))"
   ]
  },
  {
   "cell_type": "code",
   "execution_count": null,
   "id": "3ffa3cba",
   "metadata": {},
   "outputs": [],
   "source": []
  }
 ],
 "metadata": {
  "kernelspec": {
   "display_name": "Python 3 (ipykernel)",
   "language": "python",
   "name": "python3"
  },
  "language_info": {
   "codemirror_mode": {
    "name": "ipython",
    "version": 3
   },
   "file_extension": ".py",
   "mimetype": "text/x-python",
   "name": "python",
   "nbconvert_exporter": "python",
   "pygments_lexer": "ipython3",
   "version": "3.11.3"
  }
 },
 "nbformat": 4,
 "nbformat_minor": 5
}
