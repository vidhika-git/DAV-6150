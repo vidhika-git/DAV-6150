{
 "cells": [
  {
   "cell_type": "code",
   "execution_count": 1,
   "id": "cd54d119",
   "metadata": {},
   "outputs": [],
   "source": [
    "# importing libraries needed\n",
    "import pandas as pd\n",
    "import seaborn as sns\n",
    "import matplotlib.pyplot as plt\n",
    "from scipy.stats import probplot\n",
    "import numpy as np\n",
    "from pandas.plotting import scatter_matrix"
   ]
  },
  {
   "cell_type": "code",
   "execution_count": 3,
   "id": "f23aecc3",
   "metadata": {},
   "outputs": [
    {
     "data": {
      "text/html": [
       "<div>\n",
       "<style scoped>\n",
       "    .dataframe tbody tr th:only-of-type {\n",
       "        vertical-align: middle;\n",
       "    }\n",
       "\n",
       "    .dataframe tbody tr th {\n",
       "        vertical-align: top;\n",
       "    }\n",
       "\n",
       "    .dataframe thead th {\n",
       "        text-align: right;\n",
       "    }\n",
       "</style>\n",
       "<table border=\"1\" class=\"dataframe\">\n",
       "  <thead>\n",
       "    <tr style=\"text-align: right;\">\n",
       "      <th></th>\n",
       "      <th>pregnant</th>\n",
       "      <th>glucose</th>\n",
       "      <th>diastolic</th>\n",
       "      <th>skinfold</th>\n",
       "      <th>insulin</th>\n",
       "      <th>bmi</th>\n",
       "      <th>pedigree</th>\n",
       "      <th>age</th>\n",
       "      <th>class</th>\n",
       "      <th>scored.class</th>\n",
       "      <th>scored.probability</th>\n",
       "    </tr>\n",
       "  </thead>\n",
       "  <tbody>\n",
       "    <tr>\n",
       "      <th>0</th>\n",
       "      <td>7</td>\n",
       "      <td>124</td>\n",
       "      <td>70</td>\n",
       "      <td>33</td>\n",
       "      <td>215</td>\n",
       "      <td>25.5</td>\n",
       "      <td>0.161</td>\n",
       "      <td>37</td>\n",
       "      <td>0</td>\n",
       "      <td>0</td>\n",
       "      <td>0.328452</td>\n",
       "    </tr>\n",
       "    <tr>\n",
       "      <th>1</th>\n",
       "      <td>2</td>\n",
       "      <td>122</td>\n",
       "      <td>76</td>\n",
       "      <td>27</td>\n",
       "      <td>200</td>\n",
       "      <td>35.9</td>\n",
       "      <td>0.483</td>\n",
       "      <td>26</td>\n",
       "      <td>0</td>\n",
       "      <td>0</td>\n",
       "      <td>0.273190</td>\n",
       "    </tr>\n",
       "    <tr>\n",
       "      <th>2</th>\n",
       "      <td>3</td>\n",
       "      <td>107</td>\n",
       "      <td>62</td>\n",
       "      <td>13</td>\n",
       "      <td>48</td>\n",
       "      <td>22.9</td>\n",
       "      <td>0.678</td>\n",
       "      <td>23</td>\n",
       "      <td>1</td>\n",
       "      <td>0</td>\n",
       "      <td>0.109660</td>\n",
       "    </tr>\n",
       "    <tr>\n",
       "      <th>3</th>\n",
       "      <td>1</td>\n",
       "      <td>91</td>\n",
       "      <td>64</td>\n",
       "      <td>24</td>\n",
       "      <td>0</td>\n",
       "      <td>29.2</td>\n",
       "      <td>0.192</td>\n",
       "      <td>21</td>\n",
       "      <td>0</td>\n",
       "      <td>0</td>\n",
       "      <td>0.055998</td>\n",
       "    </tr>\n",
       "    <tr>\n",
       "      <th>4</th>\n",
       "      <td>4</td>\n",
       "      <td>83</td>\n",
       "      <td>86</td>\n",
       "      <td>19</td>\n",
       "      <td>0</td>\n",
       "      <td>29.3</td>\n",
       "      <td>0.317</td>\n",
       "      <td>34</td>\n",
       "      <td>0</td>\n",
       "      <td>0</td>\n",
       "      <td>0.100491</td>\n",
       "    </tr>\n",
       "  </tbody>\n",
       "</table>\n",
       "</div>"
      ],
      "text/plain": [
       "   pregnant  glucose  diastolic  skinfold  insulin   bmi  pedigree  age  \\\n",
       "0         7      124         70        33      215  25.5     0.161   37   \n",
       "1         2      122         76        27      200  35.9     0.483   26   \n",
       "2         3      107         62        13       48  22.9     0.678   23   \n",
       "3         1       91         64        24        0  29.2     0.192   21   \n",
       "4         4       83         86        19        0  29.3     0.317   34   \n",
       "\n",
       "   class  scored.class  scored.probability  \n",
       "0      0             0            0.328452  \n",
       "1      0             0            0.273190  \n",
       "2      1             0            0.109660  \n",
       "3      0             0            0.055998  \n",
       "4      0             0            0.100491  "
      ]
     },
     "execution_count": 3,
     "metadata": {},
     "output_type": "execute_result"
    }
   ],
   "source": [
    "#loading the data from my own github repo\n",
    "# Loading Data from Github\n",
    "\n",
    "# Loading Data from Github\n",
    "\n",
    "url0 = \"https://github.com/vidhika-git/DAV-6150/blob/main/EDA/M5_Data.csv?raw=true\"\n",
    "\n",
    "\n",
    "# Reading Data via pd.read_csv\n",
    "df = pd.read_csv(url0)\n",
    "pd.set_option('display.max_columns', None)\n",
    "# Displaying first 10 rows of the data\n",
    "df.head(5)"
   ]
  },
  {
   "cell_type": "code",
   "execution_count": 5,
   "id": "da6d085b",
   "metadata": {},
   "outputs": [
    {
     "data": {
      "text/plain": [
       "0    124\n",
       "1     57\n",
       "Name: class, dtype: int64"
      ]
     },
     "execution_count": 5,
     "metadata": {},
     "output_type": "execute_result"
    }
   ],
   "source": [
    "df['class'].value_counts()"
   ]
  },
  {
   "cell_type": "code",
   "execution_count": 6,
   "id": "4b441a14",
   "metadata": {},
   "outputs": [
    {
     "data": {
      "text/plain": [
       "0    149\n",
       "1     32\n",
       "Name: scored.class, dtype: int64"
      ]
     },
     "execution_count": 6,
     "metadata": {},
     "output_type": "execute_result"
    }
   ],
   "source": [
    "df['scored.class'].value_counts()"
   ]
  },
  {
   "cell_type": "code",
   "execution_count": null,
   "id": "2a26edff",
   "metadata": {},
   "outputs": [],
   "source": []
  },
  {
   "cell_type": "code",
   "execution_count": 4,
   "id": "19acf84a",
   "metadata": {},
   "outputs": [
    {
     "name": "stdout",
     "output_type": "stream",
     "text": [
      "Predicted    0   1\n",
      "Actual            \n",
      "0          119   5\n",
      "1           30  27\n"
     ]
    }
   ],
   "source": [
    "# Calculating the confusion matrix using crosstab\n",
    "conf_matrix = pd.crosstab(df['class'], df['scored.class'], rownames=['Actual'], colnames=['Predicted'])\n",
    "\n",
    "# Display the confusion matrix\n",
    "print(conf_matrix)\n"
   ]
  },
  {
   "cell_type": "markdown",
   "id": "83c5dd80",
   "metadata": {},
   "source": [
    "Extract the individual confusion matrix values (True Positive, False Positive, True Negative, False Negative) from the output of the crosstab() function."
   ]
  },
  {
   "cell_type": "code",
   "execution_count": 7,
   "id": "b3e31d57",
   "metadata": {},
   "outputs": [
    {
     "name": "stdout",
     "output_type": "stream",
     "text": [
      "True Positives: 27\n",
      "False Positives: 5\n",
      "True Negatives: 119\n",
      "False Negatives: 30\n"
     ]
    }
   ],
   "source": [
    "# Extracting individual confusion matrix values\n",
    "TP = conf_matrix.loc[1, 1]\n",
    "FP = conf_matrix.loc[0, 1]\n",
    "TN = conf_matrix.loc[0, 0]\n",
    "FN = conf_matrix.loc[1, 0]\n",
    "\n",
    "# Display the extracted values\n",
    "print(\"True Positives:\", TP)\n",
    "print(\"False Positives:\", FP)\n",
    "print(\"True Negatives:\", TN)\n",
    "print(\"False Negatives:\", FN)\n"
   ]
  },
  {
   "cell_type": "markdown",
   "id": "0bada524",
   "metadata": {},
   "source": [
    "Write Python functions to calculate accuracy, precision, sensitivity, specificity, and F1 Score metrics."
   ]
  },
  {
   "cell_type": "code",
   "execution_count": 9,
   "id": "39c920c4",
   "metadata": {},
   "outputs": [],
   "source": [
    "def accuracy(TP, FP, TN, FN):\n",
    "    return (TP + TN) / (TP + FP + TN + FN)\n",
    "\n",
    "def precision(TP, FP):\n",
    "    return TP / (TP + FP)\n",
    "\n",
    "def sensitivity(TP, FN):\n",
    "    return TP / (TP + FN)\n",
    "\n",
    "def specificity(TN, FP):\n",
    "    return TN / (TN + FP)\n",
    "\n",
    "def f1_score(TP, FP, FN):\n",
    "    prec = precision(TP, FP)\n",
    "    recall = sensitivity(TP, FN)\n",
    "    return 2 * (prec * recall) / (prec + recall)\n"
   ]
  },
  {
   "cell_type": "markdown",
   "id": "91cf25cb",
   "metadata": {},
   "source": [
    "Apply the Python functions you've created to the relevant columns of the provided data set."
   ]
  },
  {
   "cell_type": "code",
   "execution_count": 10,
   "id": "0f0b2e7d",
   "metadata": {},
   "outputs": [
    {
     "name": "stdout",
     "output_type": "stream",
     "text": [
      "Accuracy: 0.8066298342541437\n",
      "Precision: 0.84375\n",
      "Sensitivity: 0.47368421052631576\n",
      "Specificity: 0.9596774193548387\n",
      "F1 Score: 0.6067415730337079\n"
     ]
    }
   ],
   "source": [
    "acc = accuracy(TP, FP, TN, FN)\n",
    "prec = precision(TP, FP)\n",
    "sens = sensitivity(TP, FN)\n",
    "spec = specificity(TN, FP)\n",
    "f1 = f1_score(TP, FP, FN)\n",
    "\n",
    "# Display the calculated metrics\n",
    "print(\"Accuracy:\", acc)\n",
    "print(\"Precision:\", prec)\n",
    "print(\"Sensitivity:\", sens)\n",
    "print(\"Specificity:\", spec)\n",
    "print(\"F1 Score:\", f1)\n"
   ]
  },
  {
   "cell_type": "markdown",
   "id": "9781237c",
   "metadata": {},
   "source": [
    " Compare the output of your functions against the output of the pre-built functions available within the scikit-learn library."
   ]
  },
  {
   "cell_type": "code",
   "execution_count": 11,
   "id": "3437c236",
   "metadata": {},
   "outputs": [
    {
     "name": "stdout",
     "output_type": "stream",
     "text": [
      "Confusion Matrix (Scikit-Learn):\n",
      " [[119   5]\n",
      " [ 30  27]]\n",
      "Accuracy (Scikit-Learn): 0.8066298342541437\n",
      "Precision (Scikit-Learn): 0.84375\n",
      "Recall (Scikit-Learn): 0.47368421052631576\n",
      "F1 Score (Scikit-Learn): 0.6067415730337079\n",
      "Classification Report (Scikit-Learn):\n",
      "               precision    recall  f1-score   support\n",
      "\n",
      "           0       0.80      0.96      0.87       124\n",
      "           1       0.84      0.47      0.61        57\n",
      "\n",
      "    accuracy                           0.81       181\n",
      "   macro avg       0.82      0.72      0.74       181\n",
      "weighted avg       0.81      0.81      0.79       181\n",
      "\n"
     ]
    }
   ],
   "source": [
    "from sklearn.metrics import confusion_matrix, accuracy_score, precision_score, recall_score, f1_score, classification_report\n",
    "\n",
    "# Calculate metrics using scikit-learn functions\n",
    "sklearn_conf_matrix = confusion_matrix(df['class'], df['scored.class'])\n",
    "sklearn_acc = accuracy_score(df['class'], df['scored.class'])\n",
    "sklearn_prec = precision_score(df['class'], df['scored.class'])\n",
    "sklearn_recall = recall_score(df['class'], df['scored.class'])\n",
    "sklearn_f1 = f1_score(df['class'], df['scored.class'])\n",
    "sklearn_classification_report = classification_report(df['class'], df['scored.class'])\n",
    "\n",
    "# Display the metrics calculated using scikit-learn functions\n",
    "print(\"Confusion Matrix (Scikit-Learn):\\n\", sklearn_conf_matrix)\n",
    "print(\"Accuracy (Scikit-Learn):\", sklearn_acc)\n",
    "print(\"Precision (Scikit-Learn):\", sklearn_prec)\n",
    "print(\"Recall (Scikit-Learn):\", sklearn_recall)\n",
    "print(\"F1 Score (Scikit-Learn):\", sklearn_f1)\n",
    "print(\"Classification Report (Scikit-Learn):\\n\", sklearn_classification_report)\n"
   ]
  },
  {
   "cell_type": "markdown",
   "id": "0f59ba1a",
   "metadata": {},
   "source": [
    "Use the metrics.plot_roc_curve() and metrics.auc() functions from the scikit-learn package to generate a ROC plot and calculate AUC for the provided data set."
   ]
  },
  {
   "cell_type": "code",
   "execution_count": 22,
   "id": "57800d23",
   "metadata": {},
   "outputs": [
    {
     "name": "stdout",
     "output_type": "stream",
     "text": [
      "0.8503112620260327\n"
     ]
    },
    {
     "data": {
      "image/png": "[encoded data removed]",
      "text/plain": [
       "<Figure size 800x600 with 1 Axes>"
      ]
     },
     "metadata": {},
     "output_type": "display_data"
    }
   ],
   "source": [
    "import matplotlib.pyplot as plt\n",
    "from sklearn.metrics import roc_curve, auc\n",
    "from sklearn.metrics import roc_auc_score\n",
    "\n",
    "# Plot ROC curve and calculate AUC\n",
    "plt.figure(figsize=(8, 6))\n",
    "#roc_curve(y_true=, y_score=df['scored.probability'])\n",
    "print(roc_auc_score(df['class'], df['scored.probability']))\n",
    "plt.title('ROC Curve')\n",
    "plt.xlabel('False Positive Rate')\n",
    "plt.ylabel('True Positive Rate')\n",
    "plt.show()\n",
    "\n",
    "# Calculate AUC\n",
    "#roc_auc = auc(df['class'], df['scored.probability'])\n",
    "#print(\"AUC:\", roc_auc)\n"
   ]
  },
  {
   "cell_type": "code",
   "execution_count": 23,
   "id": "1a4dc967",
   "metadata": {},
   "outputs": [],
   "source": [
    "import numpy as np\n",
    "import matplotlib.pyplot as plt\n",
    "\n",
    "def plot_roc_curve_manual(y_true, y_score):\n",
    "    # Sort the scores and true labels based on the descending order of scores\n",
    "    sorted_indices = np.argsort(y_score)[::-1]\n",
    "    sorted_scores = y_score[sorted_indices]\n",
    "    sorted_labels = y_true[sorted_indices]\n",
    "    \n",
    "    # Initialize lists to store true positive rate (TPR) and false positive rate (FPR)\n",
    "    tpr_list = []\n",
    "    fpr_list = []\n",
    "    \n",
    "    # Initialize variables to keep track of counts\n",
    "    num_positive = np.sum(sorted_labels == 1)\n",
    "    num_negative = np.sum(sorted_labels == 0)\n",
    "    tp_count = 0\n",
    "    fp_count = 0\n",
    "    \n",
    "    # Iterate through each score\n",
    "    for score, label in zip(sorted_scores, sorted_labels):\n",
    "        if label == 1:\n",
    "            tp_count += 1\n",
    "        else:\n",
    "            fp_count += 1\n",
    "        \n",
    "        # Calculate TPR and FPR\n",
    "        tpr = tp_count / num_positive\n",
    "        fpr = fp_count / num_negative\n",
    "        \n",
    "        # Append TPR and FPR to lists\n",
    "        tpr_list.append(tpr)\n",
    "        fpr_list.append(fpr)\n",
    "    \n",
    "    # Calculate AUC using trapezoidal rule\n",
    "    auc = np.trapz(tpr_list, fpr_list)\n",
    "    \n",
    "    # Plot ROC curve\n",
    "    plt.figure(figsize=(8, 6))\n",
    "    plt.plot(fpr_list, tpr_list, color='blue', lw=2, label='ROC Curve (AUC = %0.2f)' % auc)\n",
    "    plt.plot([0, 1], [0, 1], color='gray', linestyle='--')\n",
    "    plt.xlim([0.0, 1.0])\n",
    "    plt.ylim([0.0, 1.05])\n",
    "    plt.xlabel('False Positive Rate')\n",
    "    plt.ylabel('True Positive Rate')\n",
    "    plt.title('ROC Curve')\n",
    "    plt.legend(loc='lower right')\n",
    "    plt.show()\n",
    "\n",
    "    # Return AUC\n",
    "    return auc\n",
    "\n"
   ]
  },
  {
   "cell_type": "code",
   "execution_count": 24,
   "id": "c63dab4b",
   "metadata": {},
   "outputs": [
    {
     "data": {
      "image/png": "[encoded data removed]",
      "text/plain": [
       "<Figure size 800x600 with 1 Axes>"
      ]
     },
     "metadata": {},
     "output_type": "display_data"
    },
    {
     "name": "stdout",
     "output_type": "stream",
     "text": [
      "AUC (Manual): 0.8503112620260328\n"
     ]
    }
   ],
   "source": [
    "# Assuming y_true contains the true labels and y_score contains the predicted scores\n",
    "auc_manual = plot_roc_curve_manual(y_true=df['class'], y_score=df['scored.probability'])\n",
    "print(\"AUC (Manual):\", auc_manual)\n"
   ]
  },
  {
   "cell_type": "code",
   "execution_count": null,
   "id": "ea3cf85d",
   "metadata": {},
   "outputs": [],
   "source": []
  }
 ],
 "metadata": {
  "kernelspec": {
   "display_name": "Python 3 (ipykernel)",
   "language": "python",
   "name": "python3"
  },
  "language_info": {
   "codemirror_mode": {
    "name": "ipython",
    "version": 3
   },
   "file_extension": ".py",
   "mimetype": "text/x-python",
   "name": "python",
   "nbconvert_exporter": "python",
   "pygments_lexer": "ipython3",
   "version": "3.11.3"
  }
 },
 "nbformat": 4,
 "nbformat_minor": 5
}
